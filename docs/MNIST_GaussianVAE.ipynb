{
 "cells": [
  {
   "cell_type": "code",
   "execution_count": 1,
   "metadata": {},
   "outputs": [],
   "source": [
    "import tensorflow as tf\n",
    "import tensorflow_probability as tfp\n",
    "\n",
    "tfd = tfp.distributions\n",
    "\n",
    "import matplotlib.pyplot as plt\n",
    "\n",
    "import logging\n",
    "logging.basicConfig(filename='training.log', level = logging.INFO, format='%(asctime)s %(message)s')"
   ]
  },
  {
   "cell_type": "code",
   "execution_count": 2,
   "metadata": {},
   "outputs": [],
   "source": [
    "(train_images, _), (test_images, _) = tf.keras.datasets.mnist.load_data()\n",
    "train_images = train_images.reshape(train_images.shape[0], 28, 28, 1).astype('float32')\n",
    "test_images = test_images.reshape(test_images.shape[0], 28, 28, 1).astype('float32')\n",
    "\n",
    "train_images /= 255.\n",
    "test_images /= 255.\n",
    " \n",
    "train_images[train_images >= .5] = 1.\n",
    "train_images[train_images < .5] = 0.\n",
    "test_images[test_images >= .5] = 1.\n",
    "test_images[test_images < .5] = 0.\n",
    "\n",
    "BATCH_SIZE = 128\n",
    "\n",
    "train = tf.data.Dataset.from_tensor_slices(train_images).shuffle(\n",
    "    train_images.shape[0]).batch(BATCH_SIZE)\n",
    "test = tf.data.Dataset.from_tensor_slices(test_images).batch(BATCH_SIZE)"
   ]
  },
  {
   "cell_type": "code",
   "execution_count": 3,
   "metadata": {},
   "outputs": [
    {
     "data": {
      "text/plain": [
       "TensorShape([128, 28, 28, 1])"
      ]
     },
     "execution_count": 3,
     "metadata": {},
     "output_type": "execute_result"
    }
   ],
   "source": [
    "train_iterator = iter(train)\n",
    "next(train_iterator).shape"
   ]
  },
  {
   "cell_type": "code",
   "execution_count": 4,
   "metadata": {},
   "outputs": [],
   "source": [
    "latent_dim=50\n",
    "\n",
    "inference_net = tf.keras.Sequential([\n",
    "                  tf.keras.layers.InputLayer(input_shape=(28, 28, 1)),\n",
    "                  tf.keras.layers.Conv2D(\n",
    "                      filters=32, kernel_size=3, strides=(2, 2), activation='relu'),\n",
    "                  tf.keras.layers.Conv2D(\n",
    "                      filters=64, kernel_size=3, strides=(2, 2), activation='relu'),\n",
    "                  tf.keras.layers.Flatten(),\n",
    "                  # No activation\n",
    "                  tf.keras.layers.Dense(latent_dim + latent_dim),\n",
    "              ])\n",
    "\n",
    "generative_net = tf.keras.Sequential([\n",
    "                  tf.keras.layers.InputLayer(input_shape=(latent_dim,)),\n",
    "                  tf.keras.layers.Dense(units=7*7*32, activation=tf.nn.relu),\n",
    "                  tf.keras.layers.Reshape(target_shape=(7, 7, 32)),\n",
    "                  tf.keras.layers.Conv2DTranspose(\n",
    "                      filters=64,\n",
    "                      kernel_size=3,\n",
    "                      strides=(2, 2),\n",
    "                      padding=\"SAME\",\n",
    "                      activation='relu'),\n",
    "                  tf.keras.layers.Conv2DTranspose(\n",
    "                      filters=32,\n",
    "                      kernel_size=3,\n",
    "                      strides=(2, 2),\n",
    "                      padding=\"SAME\",\n",
    "                      activation='relu'),\n",
    "                  # No activation\n",
    "                  tf.keras.layers.Conv2DTranspose(\n",
    "                      filters=1, kernel_size=3, strides=(1, 1), padding=\"SAME\"),\n",
    "                ])"
   ]
  },
  {
   "cell_type": "code",
   "execution_count": 5,
   "metadata": {},
   "outputs": [],
   "source": [
    "from autoencoders.vae_models import GaussianVAE, CauchyVAE, VAE\n",
    "from autoencoders import loss_functions as loss"
   ]
  },
  {
   "cell_type": "code",
   "execution_count": 6,
   "metadata": {},
   "outputs": [],
   "source": [
    "import time\n",
    "\n",
    "epochs = 3\n",
    "\n",
    "model = CauchyVAE(latent_dim=2, eps_scale=0.01, decoder_dist=tfd.Normal)\n",
    "#     #latent_dim=50, \n",
    "#     inference_net=inference_net, \n",
    "#     generative_net=generative_net)\n",
    "optimizer = tf.keras.optimizers.Adam(learning_rate=1e-4)\n",
    "compute_loss = loss.loss_elbo_cross_ent"
   ]
  },
  {
   "cell_type": "code",
   "execution_count": 7,
   "metadata": {},
   "outputs": [
    {
     "data": {
      "text/plain": [
       "(tensorflow_probability.python.distributions.cauchy.Cauchy,\n",
       " tensorflow_probability.python.distributions.normal.Normal,\n",
       " tensorflow_probability.python.distributions.cauchy.Cauchy,\n",
       " 0.01)"
      ]
     },
     "execution_count": 7,
     "metadata": {},
     "output_type": "execute_result"
    }
   ],
   "source": [
    "model.latent_dist_, model.decoder_dist_, model.prior_dist_, model.decoder_eps_scale"
   ]
  },
  {
   "cell_type": "code",
   "execution_count": 9,
   "metadata": {},
   "outputs": [
    {
     "data": {
      "image/png": "[encoded data removed]",
      "text/plain": [
       "<Figure size 720x360 with 8 Axes>"
      ]
     },
     "metadata": {
      "needs_background": "light"
     },
     "output_type": "display_data"
    },
    {
     "data": {
      "image/png": "[encoded data removed]",
      "text/plain": [
       "<Figure size 720x360 with 8 Axes>"
      ]
     },
     "metadata": {
      "needs_background": "light"
     },
     "output_type": "display_data"
    },
    {
     "data": {
      "image/png": "[encoded data removed]",
      "text/plain": [
       "<Figure size 720x360 with 8 Axes>"
      ]
     },
     "metadata": {
      "needs_background": "light"
     },
     "output_type": "display_data"
    }
   ],
   "source": [
    "for epoch in range(1, epochs + 1):\n",
    "    start_time = time.time()\n",
    "    for train_x in train:\n",
    "        loss.compute_apply_gradients(model, train_x, compute_loss, optimizer, cross_ent='sigmoid')\n",
    "    end_time = time.time()\n",
    "\n",
    "    if epoch % 1 == 0:\n",
    "        mean_loss = tf.keras.metrics.Mean()\n",
    "        kl = tf.keras.metrics.Mean()\n",
    "        likelihood = tf.keras.metrics.Mean()\n",
    "        for test_x in test:\n",
    "            loss_dict = compute_loss(model, test_x)\n",
    "            mean_loss(loss_dict['final'])\n",
    "            kl(loss_dict['kl'])\n",
    "            likelihood(loss_dict['likelihood'])     \n",
    "       # display.clear_output(wait=False)\n",
    "        logging.info('Epoch: {}, Test set ELBO: {}, KL: {}, likelihood: {},'\n",
    "          ' time elapsed for current epoch: {}'.format(epoch,\n",
    "                                                    -mean_loss.result(),\n",
    "                                                    kl.result(),\n",
    "                                                    likelihood.result(),\n",
    "                                                    end_time - start_time))\n",
    "        fig, axes = plt.subplots(nrows=2, ncols=4, figsize=(10, 5), sharex=True, sharey=True)\n",
    "        for i, ax_col in enumerate(axes.T):\n",
    "            ax_col[0].imshow(train_x[i, ..., 0], cmap='binary')\n",
    "            ax_col[1].imshow(model(train_x, apply_sigmoid=True)['decoded'][i, ..., 0], cmap='binary')\n",
    "        plt.show()"
   ]
  },
  {
   "cell_type": "code",
   "execution_count": null,
   "metadata": {},
   "outputs": [],
   "source": []
  },
  {
   "cell_type": "code",
   "execution_count": null,
   "metadata": {},
   "outputs": [],
   "source": []
  }
 ],
 "metadata": {
  "kernelspec": {
   "display_name": "tensorflow2",
   "language": "python",
   "name": "tensorflow2"
  },
  "language_info": {
   "codemirror_mode": {
    "name": "ipython",
    "version": 3
   },
   "file_extension": ".py",
   "mimetype": "text/x-python",
   "name": "python",
   "nbconvert_exporter": "python",
   "pygments_lexer": "ipython3",
   "version": "3.7.6"
  }
 },
 "nbformat": 4,
 "nbformat_minor": 2
}
